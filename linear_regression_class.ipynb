{
 "cells": [
  {
   "metadata": {},
   "cell_type": "markdown",
   "source": "# Класс логистической регресcии",
   "id": "214cb134a2ec36c"
  },
  {
   "metadata": {
    "ExecuteTime": {
     "end_time": "2024-11-17T19:04:25.524270Z",
     "start_time": "2024-11-17T19:04:25.517572Z"
    }
   },
   "cell_type": "code",
   "source": [
    "import numpy as np\n",
    "\n",
    "class LinearRegression:\n",
    "    def __init__(self):\n",
    "        self.weights = None\n",
    "        self.bias = 0\n",
    "\n",
    "    def fit(self, features, target, learning_rate=0.00001, epochs=30000):\n",
    "        features = np.array(features)\n",
    "        target = np.array(target)\n",
    "        n_samples, n_features = features.shape\n",
    "\n",
    "        self.weights = np.zeros(n_features)\n",
    "\n",
    "        for epoch in range(epochs):\n",
    "            target_predicted = np.dot(features, self.weights) + self.bias\n",
    "\n",
    "            dw = (1 / n_samples) * np.dot(features.T, (target_predicted - target))\n",
    "            db = (1 / n_samples) * np.sum(target_predicted - target)\n",
    "            dw = np.clip(dw, -1e4, 1e4)\n",
    "            db = np.clip(db, -1e4, 1e4)\n",
    "\n",
    "            self.weights -= learning_rate * dw\n",
    "            self.bias -= learning_rate * db\n",
    "\n",
    "    def predict(self, features):\n",
    "        return np.dot(features, self.weights) + self.bias\n",
    "\n",
    "    @staticmethod\n",
    "    def calc_metric(target_true, target_pred, metric='rmse'):\n",
    "        target_true = np.array(target_true)\n",
    "        target_pred = np.array(target_pred)\n",
    "\n",
    "        if metric == 'r2':\n",
    "            ss_total = np.sum((target_true - np.mean(target_true)) ** 2)\n",
    "            ss_residual = np.sum((target_true - target_pred) ** 2)\n",
    "            return 1 - (ss_residual / ss_total)\n",
    "        elif metric == 'rmse':\n",
    "            return np.sqrt(np.mean((target_true - target_pred) ** 2))\n",
    "\n",
    "        return None\n"
   ],
   "id": "7d7758215ee522e4",
   "outputs": [],
   "execution_count": 110
  },
  {
   "metadata": {},
   "cell_type": "markdown",
   "source": "# Пример обучения модели с использованием реализованного класса",
   "id": "8d16de5ae1a4c30a"
  },
  {
   "cell_type": "code",
   "id": "initial_id",
   "metadata": {
    "collapsed": true,
    "ExecuteTime": {
     "end_time": "2024-11-17T19:04:25.578098Z",
     "start_time": "2024-11-17T19:04:25.567902Z"
    }
   },
   "source": [
    "import pandas as pd\n",
    "\n",
    "data = pd.read_csv(\n",
    "    \"data/cars_prepared.data\",\n",
    ")\n",
    "\n",
    "print(data.head())\n"
   ],
   "outputs": [
    {
     "name": "stdout",
     "output_type": "stream",
     "text": [
      "   Unnamed: 0       mpg  cylinders  displacement  horsepower    weight  \\\n",
      "0           0 -0.706439   1.498191      1.090604    0.670894  0.630870   \n",
      "1           1 -1.090751   1.498191      1.503514    1.588203  0.854333   \n",
      "2           2 -0.706439   1.498191      1.196232    1.195071  0.550470   \n",
      "3           3 -0.962647   1.498191      1.061796    1.195071  0.546923   \n",
      "4           4 -0.834543   1.498191      1.042591    0.932982  0.565841   \n",
      "\n",
      "   acceleration  model_year    origin  car_name  \n",
      "0     -1.295498   -1.627426 -0.715145 -1.113745  \n",
      "1     -1.477038   -1.627426 -0.715145 -1.259185  \n",
      "2     -1.658577   -1.627426 -0.715145  0.922428  \n",
      "3     -1.295498   -1.627426 -0.715145 -1.505316  \n",
      "4     -1.840117   -1.627426 -0.715145  0.139285  \n"
     ]
    }
   ],
   "execution_count": 111
  },
  {
   "metadata": {},
   "cell_type": "markdown",
   "source": "## Разделение выборки на тренировочную и тестовую",
   "id": "a7a9d0bbb6372f24"
  },
  {
   "metadata": {
    "ExecuteTime": {
     "end_time": "2024-11-17T19:04:25.620833Z",
     "start_time": "2024-11-17T19:04:25.614029Z"
    }
   },
   "cell_type": "code",
   "source": [
    "target = data['mpg']\n",
    "features = data.drop(columns=['mpg', 'car_name'])\n",
    "\n",
    "n_samples = len(features)\n",
    "test_size = int(n_samples * 0.2)\n",
    "\n",
    "indices = np.arange(n_samples)\n",
    "np.random.shuffle(indices)\n",
    "\n",
    "test_indices = indices[:test_size]\n",
    "train_indices = indices[test_size:]\n",
    "\n",
    "features_train = features.iloc[train_indices]\n",
    "features_test = features.iloc[test_indices]\n",
    "target_train = target.iloc[train_indices]\n",
    "target_test = target.iloc[test_indices]"
   ],
   "id": "aa12d474805f824f",
   "outputs": [],
   "execution_count": 112
  },
  {
   "metadata": {},
   "cell_type": "markdown",
   "source": "## Обучение модели",
   "id": "a1a242dce0ea2e1d"
  },
  {
   "metadata": {
    "ExecuteTime": {
     "end_time": "2024-11-17T19:04:26.144359Z",
     "start_time": "2024-11-17T19:04:25.666367Z"
    }
   },
   "cell_type": "code",
   "source": [
    "model = LinearRegression()\n",
    "\n",
    "model.fit(features_train, target_train)\n",
    "\n",
    "train_predictions = model.predict(features_train)\n",
    "test_predictions = model.predict(features_test)\n",
    "\n",
    "print(f\"Значение коэффициента детерминации на тренировочной выборке:\"\n",
    "      f\" {model.calc_metric(target_train, train_predictions, metric='r2')}\")\n",
    "print(f\"Значение коэффициента детерминации на тестовой выборке:\"\n",
    "      f\" {model.calc_metric(target_test, test_predictions, metric='r2')}\")\n",
    "print(f\"Значение среднеквадратичной ошибки на тренировочной выборке:\"\n",
    "      f\" {model.calc_metric(target_train, train_predictions, metric='rmse')}\")\n",
    "print(f\"Значение среднеквадратичной ошибки на тестовой выборке:\"\n",
    "      f\" {model.calc_metric(target_test, test_predictions, metric='rmse')}\")"
   ],
   "id": "47a7242bbf8ffaf9",
   "outputs": [
    {
     "name": "stdout",
     "output_type": "stream",
     "text": [
      "Значение коэффициента детерминации на тренировочной выборке: 0.7014079486816523\n",
      "Значение коэффициента детерминации на тестовой выборке: 0.7199890387949139\n",
      "Значение среднеквадратичной ошибки на тренировочной выборке: 0.5439961703383744\n",
      "Значение среднеквадратичной ошибки на тестовой выборке: 0.538536806263656\n"
     ]
    }
   ],
   "execution_count": 113
  }
 ],
 "metadata": {
  "kernelspec": {
   "display_name": "Python 3",
   "language": "python",
   "name": "python3"
  },
  "language_info": {
   "codemirror_mode": {
    "name": "ipython",
    "version": 2
   },
   "file_extension": ".py",
   "mimetype": "text/x-python",
   "name": "python",
   "nbconvert_exporter": "python",
   "pygments_lexer": "ipython2",
   "version": "2.7.6"
  }
 },
 "nbformat": 4,
 "nbformat_minor": 5
}
