{
 "cells": [
  {
   "cell_type": "code",
   "execution_count": 7,
   "metadata": {},
   "outputs": [],
   "source": [
    "import pandas as pd\n",
    "\n",
    "from sklearn.preprocessing import StandardScaler\n",
    "from sklearn.linear_model import SGDRegressor\n",
    "from sklearn.metrics import r2_score, mean_squared_error\n",
    "from sklearn.ensemble import RandomForestRegressor\n",
    "\n",
    "train = pd.read_csv('data/train.csv')\n",
    "test = pd.read_csv('data/test.csv')"
   ]
  },
  {
   "cell_type": "code",
   "execution_count": 8,
   "metadata": {},
   "outputs": [],
   "source": [
    "train['store_id'] = pd.factorize(train['store_sqft'])[0] + 1\n",
    "\n",
    "# *product_id = нумерация уникальных gross_weight&\"_\"&recyclable_package&low_fat&units_per_case\n",
    "train['product_id'] = pd.factorize(\n",
    "    train['gross_weight'].astype(str) + \"_\" +\n",
    "    train['recyclable_package'].astype(str) + \"_\" +\n",
    "    train['low_fat'].astype(str) + \"_\" +\n",
    "    train['units_per_case'].astype(str))[0] + 1\n",
    "\n",
    "# *campain_id = нумерация уникальных cost\n",
    "#train['campain_id'] = pd.factorize(train['cost'])[0] + 1\n",
    "\n",
    "# *client_profile_id = нумерация уникальных *store_id&\"_\"&total_children&num_children_at_home&avg_cars_at home(approx),1\n",
    "train['client_profile_id'] = pd.factorize(\n",
    "    train['store_id'].astype(str) + \"_\" +\n",
    "    train['total_children'].astype(str) + \"_\" +\n",
    "    train['num_children_at_home'].astype(str) + \"_\" +\n",
    "    train['avg_cars_at home(approx).1'].astype(str))[0] + 1\n",
    "\n",
    "# *total_sales_in_mln = max для store_sales(in millions) с группировкой по *product_id\n",
    "total_sales_in_mln = train.groupby('product_id')['store_sales(in millions)'].transform('max')\n",
    "train['total_sales_in_mln'] = total_sales_in_mln\n",
    "\n",
    "# *total_sales_in_units = max для unit_sales(in millions) с группировкой по *product_id\n",
    "total_sales_in_units = train.groupby('product_id')['unit_sales(in millions)'].transform('max')\n",
    "train['total_sales_in_units'] = total_sales_in_units"
   ]
  },
  {
   "cell_type": "code",
   "execution_count": 10,
   "metadata": {},
   "outputs": [],
   "source": [
    "test['store_id'] = pd.factorize(test['store_sqft'])[0] + 1\n",
    "\n",
    "# *product_id = нумерация уникальных gross_weight&\"_\"&recyclable_package&low_fat&units_per_case\n",
    "test['product_id'] = pd.factorize(\n",
    "    test['gross_weight'].astype(str) + \"_\" +\n",
    "    test['recyclable_package'].astype(str) + \"_\" +\n",
    "    test['low_fat'].astype(str) + \"_\" +\n",
    "    test['units_per_case'].astype(str))[0] + 1\n",
    "\n",
    "# *campain_id = нумерация уникальных cost\n",
    "#train['campain_id'] = pd.factorize(train['cost'])[0] + 1\n",
    "\n",
    "# *client_profile_id = нумерация уникальных *store_id&\"_\"&total_children&num_children_at_home&avg_cars_at home(approx),1\n",
    "test['client_profile_id'] = pd.factorize(\n",
    "    test['store_id'].astype(str) + \"_\" +\n",
    "    test['total_children'].astype(str) + \"_\" +\n",
    "    test['num_children_at_home'].astype(str) + \"_\" +\n",
    "    test['avg_cars_at home(approx).1'].astype(str))[0] + 1\n",
    "\n",
    "# *total_sales_in_mln = max для store_sales(in millions) с группировкой по *product_id\n",
    "total_sales_in_mln = test.groupby('product_id')['store_sales(in millions)'].transform('max')\n",
    "test['total_sales_in_mln'] = total_sales_in_mln\n",
    "\n",
    "# *total_sales_in_units = max для unit_sales(in millions) с группировкой по *product_id\n",
    "total_sales_in_units = test.groupby('product_id')['unit_sales(in millions)'].transform('max')\n",
    "test['total_sales_in_units'] = total_sales_in_units"
   ]
  },
  {
   "cell_type": "code",
   "execution_count": 11,
   "metadata": {},
   "outputs": [
    {
     "name": "stdout",
     "output_type": "stream",
     "text": [
      "<class 'pandas.core.frame.DataFrame'>\n",
      "RangeIndex: 360336 entries, 0 to 360335\n",
      "Data columns (total 22 columns):\n",
      " #   Column                      Non-Null Count   Dtype  \n",
      "---  ------                      --------------   -----  \n",
      " 0   id                          360336 non-null  int64  \n",
      " 1   store_sales(in millions)    360336 non-null  float64\n",
      " 2   unit_sales(in millions)     360336 non-null  float64\n",
      " 3   total_children              360336 non-null  float64\n",
      " 4   num_children_at_home        360336 non-null  float64\n",
      " 5   avg_cars_at home(approx).1  360336 non-null  float64\n",
      " 6   gross_weight                360336 non-null  float64\n",
      " 7   recyclable_package          360336 non-null  float64\n",
      " 8   low_fat                     360336 non-null  float64\n",
      " 9   units_per_case              360336 non-null  float64\n",
      " 10  store_sqft                  360336 non-null  float64\n",
      " 11  coffee_bar                  360336 non-null  float64\n",
      " 12  video_store                 360336 non-null  float64\n",
      " 13  salad_bar                   360336 non-null  float64\n",
      " 14  prepared_food               360336 non-null  float64\n",
      " 15  florist                     360336 non-null  float64\n",
      " 16  cost                        360336 non-null  float64\n",
      " 17  store_id                    360336 non-null  int64  \n",
      " 18  product_id                  360336 non-null  int64  \n",
      " 19  client_profile_id           360336 non-null  int64  \n",
      " 20  total_sales_in_mln          360336 non-null  float64\n",
      " 21  total_sales_in_units        360336 non-null  float64\n",
      "dtypes: float64(18), int64(4)\n",
      "memory usage: 60.5 MB\n"
     ]
    }
   ],
   "source": [
    "train.info()"
   ]
  },
  {
   "cell_type": "code",
   "execution_count": null,
   "metadata": {},
   "outputs": [
    {
     "name": "stdout",
     "output_type": "stream",
     "text": [
      "R^2 train: 0.2325\n",
      "RMSE train: 688.0046\n"
     ]
    }
   ],
   "source": [
    "scaler = StandardScaler()\n",
    "\n",
    "X = train.drop(['cost', 'id'], axis=1)\n",
    "y_train = train['cost']\n",
    "\n",
    "X_train = scaler.fit_transform(X)\n",
    "X_test = scaler.transform(test.drop(['id'], axis=1))\n",
    "\n",
    "model = RandomForestRegressor(\n",
    "    random_state=42,\n",
    "    max_depth=15,\n",
    "    min_samples_leaf=4,\n",
    "    min_samples_split=15,\n",
    "    n_estimators=200,\n",
    "    bootstrap=True,\n",
    ")\n",
    "\n",
    "model.fit(X_train, y_train)\n",
    "\n",
    "y_train_pred = model.predict(X_train)\n",
    "y_test_pred = model.predict(X_test)\n",
    "\n",
    "r2_train = r2_score(y_train, y_train_pred)\n",
    "rmse_train = mean_squared_error(y_train, y_train_pred)\n",
    "\n",
    "print(f\"R^2 train: {r2_train:.4f}\")\n",
    "print(f\"RMSE train: {rmse_train:.4f}\")"
   ]
  },
  {
   "cell_type": "code",
   "execution_count": 13,
   "metadata": {},
   "outputs": [],
   "source": [
    "submission = pd.DataFrame(\n",
    "    {\n",
    "        'id': test['id'], \n",
    "        'cost': y_test_pred\n",
    "    })\n",
    "\n",
    "submission.to_csv('submission.csv', index=False)"
   ]
  }
 ],
 "metadata": {
  "kernelspec": {
   "display_name": "Python 3",
   "language": "python",
   "name": "python3"
  },
  "language_info": {
   "codemirror_mode": {
    "name": "ipython",
    "version": 3
   },
   "file_extension": ".py",
   "mimetype": "text/x-python",
   "name": "python",
   "nbconvert_exporter": "python",
   "pygments_lexer": "ipython3",
   "version": "3.12.6"
  }
 },
 "nbformat": 4,
 "nbformat_minor": 2
}
