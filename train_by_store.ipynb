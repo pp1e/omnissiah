{
 "cells": [
  {
   "metadata": {},
   "cell_type": "markdown",
   "source": "## Отбираем данные",
   "id": "2b08c94a4e7ae079"
  },
  {
   "cell_type": "code",
   "id": "initial_id",
   "metadata": {
    "collapsed": true,
    "ExecuteTime": {
     "end_time": "2024-11-12T12:32:31.095646Z",
     "start_time": "2024-11-12T12:32:30.201341Z"
    }
   },
   "source": [
    "from sklearn.linear_model import LinearRegression, SGDRegressor\n",
    "from sklearn.model_selection import train_test_split\n",
    "import pandas as pd\n",
    "\n",
    "RANDOM_STATE = 42\n",
    "\n",
    "data = pd.read_csv('train_prepared.csv')\n",
    "\n",
    "target = data['cost']\n",
    "features = data.filter(regex=r\"store_sqft\")\n",
    "display(features.info())\n",
    "features_train, features_test, target_train, target_test = train_test_split(features,\n",
    "                                                                            target,\n",
    "                                                                            test_size=0.2,\n",
    "                                                                            random_state=RANDOM_STATE)"
   ],
   "outputs": [
    {
     "name": "stdout",
     "output_type": "stream",
     "text": [
      "<class 'pandas.core.frame.DataFrame'>\n",
      "RangeIndex: 360336 entries, 0 to 360335\n",
      "Data columns (total 18 columns):\n",
      " #   Column              Non-Null Count   Dtype  \n",
      "---  ------              --------------   -----  \n",
      " 0   store_sqft_27694.0  360336 non-null  float64\n",
      " 1   store_sqft_36509.0  360336 non-null  float64\n",
      " 2   store_sqft_30797.0  360336 non-null  float64\n",
      " 3   store_sqft_20319.0  360336 non-null  float64\n",
      " 4   store_sqft_34452.0  360336 non-null  float64\n",
      " 5   store_sqft_28206.0  360336 non-null  float64\n",
      " 6   store_sqft_23759.0  360336 non-null  float64\n",
      " 7   store_sqft_23112.0  360336 non-null  float64\n",
      " 8   store_sqft_21215.0  360336 non-null  float64\n",
      " 9   store_sqft_22478.0  360336 non-null  float64\n",
      " 10  store_sqft_24597.0  360336 non-null  float64\n",
      " 11  store_sqft_30268.0  360336 non-null  float64\n",
      " 12  store_sqft_38382.0  360336 non-null  float64\n",
      " 13  store_sqft_30584.0  360336 non-null  float64\n",
      " 14  store_sqft_33858.0  360336 non-null  float64\n",
      " 15  store_sqft_39696.0  360336 non-null  float64\n",
      " 16  store_sqft_23688.0  360336 non-null  float64\n",
      " 17  store_sqft_23598.0  360336 non-null  float64\n",
      "dtypes: float64(18)\n",
      "memory usage: 49.5 MB\n"
     ]
    },
    {
     "data": {
      "text/plain": [
       "None"
      ]
     },
     "metadata": {},
     "output_type": "display_data"
    }
   ],
   "execution_count": 15
  },
  {
   "metadata": {},
   "cell_type": "markdown",
   "source": "## Тренируем модель и выводим результаты",
   "id": "b855e9921e128e8b"
  },
  {
   "metadata": {
    "ExecuteTime": {
     "end_time": "2024-11-12T12:32:31.849899Z",
     "start_time": "2024-11-12T12:32:31.201858Z"
    }
   },
   "cell_type": "code",
   "source": [
    "import numpy as np\n",
    "from sklearn.metrics import r2_score, mean_squared_error\n",
    "\n",
    "model = SGDRegressor()\n",
    "\n",
    "model.fit(features_train, target_train)\n",
    "\n",
    "train_predictions = model.predict(features_train)\n",
    "test_predictions = model.predict(features_test)\n",
    "\n",
    "r2_train = r2_score(target_train, train_predictions)\n",
    "r2_test = r2_score(target_test, test_predictions)\n",
    "\n",
    "rmse_train = np.sqrt(mean_squared_error(target_train, train_predictions))\n",
    "rmse_test = np.sqrt(mean_squared_error(target_test, test_predictions))\n",
    "\n",
    "print(f\"Значение коэффициента детерминации на тренировочной выборке: {r2_train}\\n\" +\n",
    "        f\"Значение коэффициента детерминации на тестовой выборке: {r2_test}\\n\" +\n",
    "        f\"Значение среднеквадратичной ошибки на тренировочной выборке: {rmse_train}\\n\" +\n",
    "        f\"Значение среднеквадратичной ошибки на тестовой выборке: {rmse_test}\\n\")"
   ],
   "id": "ae9ec00f8cffd2af",
   "outputs": [
    {
     "name": "stdout",
     "output_type": "stream",
     "text": [
      "Значение коэффициента детерминации на тренировочной выборке: 0.05607936741182462\n",
      "Значение коэффициента детерминации на тестовой выборке: 0.055384486616323114\n",
      "Значение среднеквадратичной ошибки на тренировочной выборке: 0.29384431673777883\n",
      "Значение среднеквадратичной ошибки на тестовой выборке: 0.29440257479219956\n",
      "\n"
     ]
    }
   ],
   "execution_count": 16
  }
 ],
 "metadata": {
  "kernelspec": {
   "display_name": "Python 3",
   "language": "python",
   "name": "python3"
  },
  "language_info": {
   "codemirror_mode": {
    "name": "ipython",
    "version": 2
   },
   "file_extension": ".py",
   "mimetype": "text/x-python",
   "name": "python",
   "nbconvert_exporter": "python",
   "pygments_lexer": "ipython2",
   "version": "2.7.6"
  }
 },
 "nbformat": 4,
 "nbformat_minor": 5
}
