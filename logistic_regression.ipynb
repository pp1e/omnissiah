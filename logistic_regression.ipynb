{
 "cells": [
  {
   "cell_type": "markdown",
   "metadata": {},
   "source": [
    "# Логистическая регрессия"
   ]
  },
  {
   "cell_type": "code",
   "execution_count": 41,
   "metadata": {},
   "outputs": [],
   "source": [
    "import numpy as np\n",
    "\n",
    "class LogisticRegression():\n",
    "    def __init__(self, learning_rate=0.001, iter=10000):\n",
    "        self.learning_rate = learning_rate\n",
    "        self.iter = iter\n",
    "        self.weights = None\n",
    "        self.bias = None\n",
    "\n",
    "    def sigmoid(self, x):\n",
    "        return 1 / (1 + np.exp(-x))\n",
    "\n",
    "    def fit(self, X, y):\n",
    "        n_samples, n_features = X.shape\n",
    "\n",
    "        self.weights = np.zeros(n_features)\n",
    "        self.bias = 0\n",
    "\n",
    "        for _ in range(self.iter):\n",
    "            linear_model = np.dot(X, self.weights) + self.bias\n",
    "\n",
    "            y_pred = self.sigmoid(linear_model)\n",
    "\n",
    "            dw = (1 / n_samples) * np.dot(X.T, (y_pred - y))\n",
    "            db = (1 / n_samples) * np.sum(y_pred - y)\n",
    "\n",
    "            self.weights -= self.learning_rate * dw\n",
    "            self.bias -= self.learning_rate * db\n",
    "\n",
    "    def predict(self, X):\n",
    "        linear_model = np.dot(X, self.weights) + self.bias\n",
    "        y_pred = self.sigmoid(linear_model)\n",
    "        y_pred_class = [1 if i > 0.5 else 0 for i in y_pred]\n",
    "        return np.array(y_pred_class)\n",
    "    \n",
    "    def calc_metric(self, y_true, y_pred):\n",
    "        tp = np.sum((y_true == 1) & (y_pred == 1))\n",
    "        fp = np.sum((y_true == 0) & (y_pred == 1))\n",
    "        fn = np.sum((y_true == 1) & (y_pred == 0))\n",
    "\n",
    "        precision = tp / (tp + fp) if (tp + fp) > 0 else 0\n",
    "        recall = tp / (tp + fn) if (tp + fn) > 0 else 0\n",
    "        f1_score = (2 * precision * recall) / (precision + recall) if (precision + recall) > 0 else 0\n",
    "        return precision, recall, f1_score\n",
    "\n"
   ]
  },
  {
   "cell_type": "code",
   "execution_count": 42,
   "metadata": {},
   "outputs": [
    {
     "name": "stdout",
     "output_type": "stream",
     "text": [
      "[[-0.39725923 -1.28383503]\n",
      " [ 0.20136741  1.89272271]\n",
      " [ 0.67854907  0.90065516]\n",
      " ...\n",
      " [ 2.19074786 -0.32019593]\n",
      " [ 0.04553532  0.95589097]\n",
      " [ 2.71922675 -0.89232744]]\n",
      "[0 1 0 0 1 1 1 0 1 0 1 1 0 1 1 0 1 1 0 0 1 0 0 1 0 1 1 1 1 0 0 1 1 0 1 1 1\n",
      " 0 0 1 0 1 0 0 0 0 1 1 0 0 0 0 1 1 1 1 0 0 1 0 1 0 0 0 1 0 0 0 0 0 0 1 1 1\n",
      " 0 1 0 1 1 0 0 1 1 0 1 1 0 0 1 1 0 1 0 0 1 0 1 1 0 0 0 1 1 1 1 0 0 1 1 0 0\n",
      " 0 0 1 1 0 0 1 0 0 1 1 1 0 1 1 1 0 1 1 0 0 0 1 0 1 0 1 1 0 0 0 1 1 1 0 0 0\n",
      " 1 0 0 1 0 1 0 0 0 0 1 0 1 1 1 1 0 0 1 0 1 1 1 0 0 0 0 0 0 0 1 0 1 0 1 1 1\n",
      " 1 0 1 0 1 1 0 0 0 0 1 0 0 0 1 1 0 1 1 0 0 1 1 1 1 1 0 0 0 1 0 1 0 1 0 1 0\n",
      " 1 1 0 1 0 1 0 1 1 0 0 0 0 1 0 0 1 0 0 0 1 1 1 0 1 1 1 0 0 1 0 1 0 1 0 1 0\n",
      " 0 0 0 1 0 1 0 0 1 0 1 0 0 1 0 1 1 0 0 0 0 0 1 0 1 1 1 0 0 1 0 0 0 0 1 1 1\n",
      " 0 1 0 0 1 0 1 1 0 1 0 1 1 1 1 0 0 0 1 0 1 0 0 0 0 0 1 0 1 0 0 1 0 0 0 1 1\n",
      " 0 1 1 0 1 1 1 0 0 0 1 0 0 1 1 1 0 0 0 0 0 1 1 1 1 0 0 1 0 1 1 1 0 0 1 0 0\n",
      " 1 1 0 1 1 0 0 1 1 1 0 0 1 1 1 0 0 1 1 0 1 1 1 0 0 1 1 0 0 0 1 0 0 0 1 1 0\n",
      " 0 1 0 0 1 1 0 0 0 1 0 1 1 1 1 0 0 1 0 1 1 1 0 1 0 0 1 1 0 0 1 0 0 1 0 1 1\n",
      " 1 1 0 0 0 0 0 0 0 1 1 1 0 0 1 1 0 0 0 0 1 1 1 0 1 0 1 1 0 1 0 1 1 0 1 1 0\n",
      " 0 0 1 0 1 1 1 0 1 1 1 0 0 1 0 1 1 1 1 1 1 1 0 0 1 0 0 1 1 1 0 1 0 1 0 0 0\n",
      " 1 0 1 1 1 0 0 1 1 1 1 0 0 0 1 1 0 1 1 0 0 1 1 0 1 0 0 1 1 0 1 0 0 0 0 0 0\n",
      " 1 1 0 0 1 0 0 1 1 1 0 0 1 1 1 1 0 0 1 1 0 0 1 0 1 0 1 1 0 1 1 1 0 1 0 0 0\n",
      " 0 1 0 1 1 0 1 0 0 1 1 1 0 1 1 0 0 1 1 0 1 0 1 1 1 1 1 1 0 0 0 1 0 1 0 1 0\n",
      " 1 0 1 0 1 0 0 0 1 0 0 0 0 1 1 0 1 0 1 1 1 1 0 1 1 0 1 1 0 1 0 1 0 0 1 1 1\n",
      " 0 0 0 1 1 0 1 0 0 1 1 1 1 1 0 0 0 0 1 0 0 1 1 0 0 0 1 0 1 1 0 1 1 1 0 0 1\n",
      " 0 1 1 0 1 1 0 1 1 1 0 1 1 0 1 1 1 1 1 1 0 0 0 1 0 1 1 1 0 1 1 1 0 1 0 0 1\n",
      " 0 1 0 1 1 0 0 0 0 0 1 1 1 1 1 0 0 1 0 0 0 0 1 0 0 0 0 0 0 1 1 1 0 1 1 1 1\n",
      " 0 1 0 1 0 0 1 0 1 0 0 0 1 0 0 1 1 0 1 0 0 1 1 0 0 0 0 1 0 0 0 0 1 0 0 0 0\n",
      " 1 0 1 1 1 1 0 0 0 1 1 1 1 0 1 1 1 0 0 0 0 1 0 1 0 1 1 0 0 0 1 1 1 1 1 1 1\n",
      " 1 1 1 1 1 1 0 1 0 1 0 1 0 1 0 0 1 0 1 1 1 0 1 1 1 1 0 0 1 1 1 1 0 0 0 0 1\n",
      " 0 0 1 1 0 1 1 1 0 1 0 1 1 1 1 1 0 1 0 0 0 1 1 1 0 1 0 0 0 1 0 1 0 1 0 0 0\n",
      " 0 0 1 1 1 0 0 1 0 0 0 0 0 1 0 0 0 1 0 0 1 1 0 1 0 0 1 0 1 0 0 0 1 1 0 0 0\n",
      " 0 1 1 0 0 0 1 0 1 0 1 0 0 0 1 0 1 0 0 1 1 1 0 0 0 1 0 1 1 0 1 0 0 0 1 1 1\n",
      " 1]\n"
     ]
    }
   ],
   "source": [
    "from sklearn import datasets\n",
    "\n",
    "X, y = datasets.make_classification(\n",
    "        n_samples=1000, \n",
    "        n_features=2,\n",
    "        n_redundant=0,\n",
    "        n_informative=2,\n",
    "        random_state=41, \n",
    "        n_clusters_per_class=2)\n",
    "\n",
    "print(X)\n",
    "print(y)"
   ]
  },
  {
   "cell_type": "code",
   "execution_count": 43,
   "metadata": {},
   "outputs": [
    {
     "name": "stdout",
     "output_type": "stream",
     "text": [
      "Precision:  0.8150807899461401\n",
      "Recall:  0.9098196392785571\n",
      "F1 Score:  0.8598484848484849\n"
     ]
    }
   ],
   "source": [
    "model = LogisticRegression()\n",
    "\n",
    "model.fit(X, y)\n",
    "y_pred = model.predict(X)\n",
    "\n",
    "precision, recall, f1_score = model.calc_metric(y, y_pred)\n",
    "print(\"Precision: \", precision)\n",
    "print(\"Recall: \", recall)\n",
    "print(\"F1 Score: \", f1_score)"
   ]
  },
  {
   "cell_type": "code",
   "execution_count": 44,
   "metadata": {},
   "outputs": [
    {
     "name": "stdout",
     "output_type": "stream",
     "text": [
      "Sklearn Precision:  0.8278985507246377\n",
      "Sklearn Recall:  0.9158316633266533\n",
      "Sklearn F1 Score:  0.8696479543292103\n"
     ]
    }
   ],
   "source": [
    "from sklearn.linear_model import LogisticRegression as SklearnLogisticRegression\n",
    "from sklearn.metrics import precision_score, recall_score, f1_score\n",
    "\n",
    "sklearn_model = SklearnLogisticRegression()\n",
    "sklearn_model.fit(X, y)\n",
    "\n",
    "y_pred_sklearn = sklearn_model.predict(X)\n",
    "\n",
    "precision_sklearn = precision_score(y, y_pred_sklearn)\n",
    "recall_sklearn = recall_score(y, y_pred_sklearn)\n",
    "f1_score_sklearn = f1_score(y, y_pred_sklearn)\n",
    "\n",
    "print(\"Sklearn Precision: \", precision_sklearn)\n",
    "print(\"Sklearn Recall: \", recall_sklearn)\n",
    "print(\"Sklearn F1 Score: \", f1_score_sklearn)"
   ]
  }
 ],
 "metadata": {
  "kernelspec": {
   "display_name": "Python 3",
   "language": "python",
   "name": "python3"
  },
  "language_info": {
   "codemirror_mode": {
    "name": "ipython",
    "version": 3
   },
   "file_extension": ".py",
   "mimetype": "text/x-python",
   "name": "python",
   "nbconvert_exporter": "python",
   "pygments_lexer": "ipython3",
   "version": "3.12.6"
  }
 },
 "nbformat": 4,
 "nbformat_minor": 2
}
